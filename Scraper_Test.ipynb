{
 "cells": [
  {
   "cell_type": "code",
   "execution_count": 1,
   "metadata": {},
   "outputs": [],
   "source": [
    "%load_ext autoreload\n",
    "%autoreload 2"
   ]
  },
  {
   "cell_type": "code",
   "execution_count": 2,
   "metadata": {},
   "outputs": [],
   "source": [
    "from fis_scraper import *\n"
   ]
  },
  {
   "cell_type": "code",
   "execution_count": 3,
   "metadata": {},
   "outputs": [],
   "source": [
    "response = requests.get(\"http://www.fis-ski.com/alpine-skiing/events-and-places/results/?season=2018&discipline=&gender=ladies&race_id=91021&sector=AL\")\n",
    "soup = BeautifulSoup(response.text, \"lxml\")"
   ]
  },
  {
   "cell_type": "code",
   "execution_count": 4,
   "metadata": {},
   "outputs": [
    {
     "data": {
      "text/plain": [
       "'Ladies’ Slalom                                '"
      ]
     },
     "execution_count": 4,
     "metadata": {},
     "output_type": "execute_result"
    }
   ],
   "source": [
    "soup.find(\"div\", class_=\"racetype\").find(\"h3\").text"
   ]
  },
  {
   "cell_type": "code",
   "execution_count": 5,
   "metadata": {},
   "outputs": [
    {
     "data": {
      "text/plain": [
       "110.72"
      ]
     },
     "execution_count": 5,
     "metadata": {},
     "output_type": "execute_result"
    }
   ],
   "source": [
    "time_to_seconds(\"1:50.72\")"
   ]
  },
  {
   "cell_type": "code",
   "execution_count": 19,
   "metadata": {},
   "outputs": [],
   "source": [
    "rate, loc, ladies, event, date, finishes = get_FIS_Results(soup)"
   ]
  },
  {
   "cell_type": "code",
   "execution_count": 20,
   "metadata": {},
   "outputs": [
    {
     "data": {
      "text/plain": [
       "0.15942028985507245"
      ]
     },
     "execution_count": 20,
     "metadata": {},
     "output_type": "execute_result"
    }
   ],
   "source": [
    "rate"
   ]
  },
  {
   "cell_type": "code",
   "execution_count": 21,
   "metadata": {},
   "outputs": [],
   "source": [
    "    first_dnfs = get_dnfs( soup, 1)\n",
    "    second_dnfs = get_dnfs( soup, 2)\n",
    "    finished_runs = 2*len(finishes) + len(second_dnfs)\n",
    "    dnf_runs = len(first_dnfs)+len(second_dnfs)\n",
    "    finish_rate = dnf_runs / (finished_runs + dnf_runs)\n",
    "\n"
   ]
  },
  {
   "cell_type": "code",
   "execution_count": 32,
   "metadata": {},
   "outputs": [
    {
     "name": "stdout",
     "output_type": "stream",
     "text": [
      "first dnfs: 9\n",
      "    CURTONI Irene\n",
      "    DUERR Lena\n",
      "    VELEZ ZUZULOVA Veronika\n",
      "    KIRCHGASSER Michaela\n",
      "    GRUENWALD Julia\n",
      "    WIESLER Maren\n",
      "    DANIOTH Aline\n",
      "    SHKANOVA Maria\n",
      "    ESPOSITO Ninon\n",
      "second dnfs: 2\n",
      "    ALPHAND Estelle\n",
      "    BRUNNER Stephanie\n",
      "len(finishes)*2: 56\n",
      "finished_runs: 58\n",
      "dnf_runs: 11\n",
      "total runs: 69\n",
      "finish rate: 0.15942028985507245\n"
     ]
    },
    {
     "data": {
      "text/plain": [
       "0.15942028985507245"
      ]
     },
     "execution_count": 32,
     "metadata": {},
     "output_type": "execute_result"
    }
   ],
   "source": [
    "print(\"first dnfs:\",len(first_dnfs))\n",
    "for e in first_dnfs: print(\"   \",e)\n",
    "print(\"second dnfs:\",len(second_dnfs))\n",
    "for e in second_dnfs: print(\"   \",e)\n",
    "print(\"len(finishes)*2:\",len(finishes)*2)\n",
    "print(\"finished_runs:\",finished_runs)\n",
    "print(\"dnf_runs:\",dnf_runs)\n",
    "print(\"total runs:\",finished_runs + dnf_runs)\n",
    "print(\"finish rate:\",finish_rate)\n",
    "11/69"
   ]
  },
  {
   "cell_type": "code",
   "execution_count": 8,
   "metadata": {},
   "outputs": [
    {
     "data": {
      "text/plain": [
       "[109.1,\n",
       " 109.19,\n",
       " 109.82,\n",
       " 109.97,\n",
       " 110.05,\n",
       " 110.25,\n",
       " 110.72,\n",
       " 110.72,\n",
       " 110.82,\n",
       " 110.92,\n",
       " 111.25,\n",
       " 111.25,\n",
       " 111.3,\n",
       " 111.43,\n",
       " 111.57,\n",
       " 111.71000000000001,\n",
       " 111.74000000000001,\n",
       " 111.84,\n",
       " 112.09,\n",
       " 112.39,\n",
       " 112.39,\n",
       " 112.81,\n",
       " 112.84,\n",
       " 112.99000000000001,\n",
       " 113.18,\n",
       " 113.47999999999999,\n",
       " 113.52000000000001,\n",
       " 114.64]"
      ]
     },
     "execution_count": 8,
     "metadata": {},
     "output_type": "execute_result"
    }
   ],
   "source": [
    "finishes"
   ]
  },
  {
   "cell_type": "code",
   "execution_count": 9,
   "metadata": {},
   "outputs": [
    {
     "data": {
      "text/plain": [
       "'10 March 2018'"
      ]
     },
     "execution_count": 9,
     "metadata": {},
     "output_type": "execute_result"
    }
   ],
   "source": [
    "get_date(soup)"
   ]
  },
  {
   "cell_type": "code",
   "execution_count": 10,
   "metadata": {},
   "outputs": [
    {
     "data": {
      "text/plain": [
       "<div class=\"hide-for-print\" id=\"bgimg\">\n",
       "<img alt=\"\" src=\"http://www.fis-ski.com/mm/Photo/Photo/General/03/27/74/32774_FLS_W01.jpg\"/>\n",
       "<div id=\"bgimg-overlay\"></div>\n",
       "</div>"
      ]
     },
     "execution_count": 10,
     "metadata": {},
     "output_type": "execute_result"
    }
   ],
   "source": [
    "soup.find(\"div\")"
   ]
  },
  {
   "cell_type": "code",
   "execution_count": 11,
   "metadata": {},
   "outputs": [],
   "source": [
    "finishes = soup.find(\"div\", class_=\"results\").find_all(\"td\", class_=\"text-left\")"
   ]
  },
  {
   "cell_type": "code",
   "execution_count": 12,
   "metadata": {},
   "outputs": [
    {
     "name": "stdout",
     "output_type": "stream",
     "text": [
      "0 1:49.10\n",
      "1 1:49.19\n",
      "2 1:49.82\n",
      "3 1:49.97\n",
      "4 1:50.05\n",
      "5 1:50.25\n",
      "6 1:50.72\n",
      "7 1:50.72\n",
      "8 1:50.82\n",
      "9 1:50.92\n",
      "10 1:51.25\n",
      "11 1:51.25\n",
      "12 1:51.30\n",
      "13 1:51.43\n",
      "14 1:51.57\n",
      "15 1:51.71\n",
      "16 1:51.74\n",
      "17 1:51.84\n",
      "18 1:52.09\n",
      "19 1:52.39\n",
      "20 1:52.39\n",
      "21 1:52.81\n",
      "22 1:52.84\n",
      "23 1:52.99\n",
      "24 1:53.18\n",
      "25 1:53.48\n",
      "26 1:53.52\n",
      "27 1:54.64\n"
     ]
    },
    {
     "ename": "AttributeError",
     "evalue": "'NoneType' object has no attribute 'text'",
     "output_type": "error",
     "traceback": [
      "\u001b[0;31m-----------------------------------------------------------------\u001b[0m",
      "\u001b[0;31mAttributeError\u001b[0m                  Traceback (most recent call last)",
      "\u001b[0;32m<ipython-input-12-2cf157060788>\u001b[0m in \u001b[0;36m<module>\u001b[0;34m()\u001b[0m\n\u001b[0;32m----> 1\u001b[0;31m \u001b[0;32mfor\u001b[0m \u001b[0mi\u001b[0m\u001b[0;34m,\u001b[0m \u001b[0mracer\u001b[0m \u001b[0;32min\u001b[0m \u001b[0menumerate\u001b[0m\u001b[0;34m(\u001b[0m\u001b[0mfinishes\u001b[0m\u001b[0;34m)\u001b[0m\u001b[0;34m:\u001b[0m \u001b[0mprint\u001b[0m\u001b[0;34m(\u001b[0m\u001b[0mi\u001b[0m\u001b[0;34m,\u001b[0m \u001b[0mracer\u001b[0m\u001b[0;34m.\u001b[0m\u001b[0mfindNextSibling\u001b[0m\u001b[0;34m(\u001b[0m\u001b[0;34m)\u001b[0m\u001b[0;34m.\u001b[0m\u001b[0mtext\u001b[0m\u001b[0;34m)\u001b[0m\u001b[0;34m\u001b[0m\u001b[0m\n\u001b[0m",
      "\u001b[0;31mAttributeError\u001b[0m: 'NoneType' object has no attribute 'text'"
     ]
    }
   ],
   "source": [
    "for i, racer in enumerate(finishes): print(i, racer.findNextSibling().text)"
   ]
  },
  {
   "cell_type": "code",
   "execution_count": null,
   "metadata": {},
   "outputs": [],
   "source": [
    "import re"
   ]
  },
  {
   "cell_type": "code",
   "execution_count": 13,
   "metadata": {
    "scrolled": false
   },
   "outputs": [],
   "source": [
    "dnfs = []\n",
    "for elem in soup(text=re.compile(r'Did not finish')):\n",
    "    temp = elem.parent.findNextSibling().find_all(\"td\", class_=\"text-left\")\n",
    "    for racer in temp:\n",
    "        dnfs.append(racer.text.strip())"
   ]
  },
  {
   "cell_type": "code",
   "execution_count": 14,
   "metadata": {},
   "outputs": [
    {
     "data": {
      "text/plain": [
       "['ALPHAND Estelle',\n",
       " 'BRUNNER Stephanie',\n",
       " 'CURTONI Irene',\n",
       " 'DUERR Lena',\n",
       " 'VELEZ ZUZULOVA Veronika',\n",
       " 'KIRCHGASSER Michaela',\n",
       " 'GRUENWALD Julia',\n",
       " 'WIESLER Maren',\n",
       " 'DANIOTH Aline',\n",
       " 'SHKANOVA Maria',\n",
       " 'ESPOSITO Ninon']"
      ]
     },
     "execution_count": 14,
     "metadata": {},
     "output_type": "execute_result"
    }
   ],
   "source": [
    "dnfs"
   ]
  },
  {
   "cell_type": "code",
   "execution_count": 15,
   "metadata": {},
   "outputs": [
    {
     "name": "stdout",
     "output_type": "stream",
     "text": [
      "Did not finish 1st run\n"
     ]
    }
   ],
   "source": [
    "for elem in soup(text=re.compile(r'Did not finish 1')):\n",
    "    print(elem)"
   ]
  },
  {
   "cell_type": "code",
   "execution_count": 51,
   "metadata": {},
   "outputs": [
    {
     "data": {
      "text/plain": [
       "(0.32142857142857145,\n",
       " 'Ofterschwang (GER)',\n",
       " True,\n",
       " 'Slalom',\n",
       " '10 March 2018',\n",
       " [109.1,\n",
       "  109.19,\n",
       "  109.82,\n",
       "  109.97,\n",
       "  110.05,\n",
       "  110.25,\n",
       "  110.72,\n",
       "  110.72,\n",
       "  110.82,\n",
       "  110.92,\n",
       "  111.25,\n",
       "  111.25,\n",
       "  111.3,\n",
       "  111.43,\n",
       "  111.57,\n",
       "  111.71000000000001,\n",
       "  111.74000000000001,\n",
       "  111.84,\n",
       "  112.09,\n",
       "  112.39,\n",
       "  112.39,\n",
       "  112.81,\n",
       "  112.84,\n",
       "  112.99000000000001,\n",
       "  113.18,\n",
       "  113.47999999999999,\n",
       "  113.52000000000001,\n",
       "  114.64])"
      ]
     },
     "execution_count": 51,
     "metadata": {},
     "output_type": "execute_result"
    }
   ],
   "source": [
    "get_FIS_Results(soup)"
   ]
  },
  {
   "cell_type": "code",
   "execution_count": 18,
   "metadata": {},
   "outputs": [
    {
     "data": {
      "text/plain": [
       "['ALPHAND Estelle', 'BRUNNER Stephanie']"
      ]
     },
     "execution_count": 18,
     "metadata": {},
     "output_type": "execute_result"
    }
   ],
   "source": [
    "get_dnfs(soup, 2)"
   ]
  },
  {
   "cell_type": "code",
   "execution_count": null,
   "metadata": {},
   "outputs": [],
   "source": []
  }
 ],
 "metadata": {
  "kernelspec": {
   "display_name": "Python 3",
   "language": "python",
   "name": "python3"
  },
  "language_info": {
   "codemirror_mode": {
    "name": "ipython",
    "version": 3
   },
   "file_extension": ".py",
   "mimetype": "text/x-python",
   "name": "python",
   "nbconvert_exporter": "python",
   "pygments_lexer": "ipython3",
   "version": "3.6.4"
  }
 },
 "nbformat": 4,
 "nbformat_minor": 2
}
