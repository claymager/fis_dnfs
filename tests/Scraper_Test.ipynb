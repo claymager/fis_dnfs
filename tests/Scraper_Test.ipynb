{
 "cells": [
  {
   "cell_type": "code",
   "execution_count": 1,
   "metadata": {},
   "outputs": [],
   "source": [
    "%load_ext autoreload\n",
    "%autoreload 2"
   ]
  },
  {
   "cell_type": "code",
   "execution_count": 2,
   "metadata": {},
   "outputs": [],
   "source": [
    "from fis_scraper import *\n"
   ]
  },
  {
   "cell_type": "code",
   "execution_count": 3,
   "metadata": {},
   "outputs": [],
   "source": [
    "response = requests.get(\"http://www.fis-ski.com/alpine-skiing/events-and-places/results/?season=2018&discipline=&gender=ladies&race_id=91021&sector=AL\")\n",
    "soup = BeautifulSoup(response.text, \"lxml\")"
   ]
  },
  {
   "cell_type": "code",
   "execution_count": 4,
   "metadata": {},
   "outputs": [
    {
     "data": {
      "text/plain": [
       "'Ladies’ Slalom                                '"
      ]
     },
     "execution_count": 4,
     "metadata": {},
     "output_type": "execute_result"
    }
   ],
   "source": [
    "soup.find(\"div\", class_=\"racetype\").find(\"h3\").text"
   ]
  },
  {
   "cell_type": "code",
   "execution_count": 5,
   "metadata": {},
   "outputs": [
    {
     "data": {
      "text/plain": [
       "110.72"
      ]
     },
     "execution_count": 5,
     "metadata": {},
     "output_type": "execute_result"
    }
   ],
   "source": [
    "time_to_seconds(\"1:50.72\")"
   ]
  },
  {
   "cell_type": "code",
   "execution_count": 6,
   "metadata": {},
   "outputs": [],
   "source": [
    "rate, loc, ladies, event, date, finishes = get_FIS_Results(soup)"
   ]
  },
  {
   "cell_type": "code",
   "execution_count": 7,
   "metadata": {},
   "outputs": [
    {
     "data": {
      "text/plain": [
       "0.15942028985507245"
      ]
     },
     "execution_count": 7,
     "metadata": {},
     "output_type": "execute_result"
    }
   ],
   "source": [
    "rate"
   ]
  },
  {
   "cell_type": "code",
   "execution_count": 8,
   "metadata": {},
   "outputs": [],
   "source": [
    "    first_dnfs = get_dnfs( soup, 1)\n",
    "    second_dnfs = get_dnfs( soup, 2)\n",
    "    finished_runs = 2*len(finishes) + len(second_dnfs)\n",
    "    dnf_runs = len(first_dnfs)+len(second_dnfs)\n",
    "    finish_rate = dnf_runs / (finished_runs + dnf_runs)\n",
    "\n"
   ]
  },
  {
   "cell_type": "code",
   "execution_count": 9,
   "metadata": {},
   "outputs": [
    {
     "name": "stdout",
     "output_type": "stream",
     "text": [
      "first dnfs: 9\n",
      "    CURTONI Irene\n",
      "    DUERR Lena\n",
      "    VELEZ ZUZULOVA Veronika\n",
      "    KIRCHGASSER Michaela\n",
      "    GRUENWALD Julia\n",
      "    WIESLER Maren\n",
      "    DANIOTH Aline\n",
      "    SHKANOVA Maria\n",
      "    ESPOSITO Ninon\n",
      "second dnfs: 2\n",
      "    ALPHAND Estelle\n",
      "    BRUNNER Stephanie\n",
      "len(finishes)*2: 56\n",
      "finished_runs: 58\n",
      "dnf_runs: 11\n",
      "total runs: 69\n",
      "finish rate: 0.15942028985507245\n"
     ]
    },
    {
     "data": {
      "text/plain": [
       "0.15942028985507245"
      ]
     },
     "execution_count": 9,
     "metadata": {},
     "output_type": "execute_result"
    }
   ],
   "source": [
    "print(\"first dnfs:\",len(first_dnfs))\n",
    "for e in first_dnfs: print(\"   \",e)\n",
    "print(\"second dnfs:\",len(second_dnfs))\n",
    "for e in second_dnfs: print(\"   \",e)\n",
    "print(\"len(finishes)*2:\",len(finishes)*2)\n",
    "print(\"finished_runs:\",finished_runs)\n",
    "print(\"dnf_runs:\",dnf_runs)\n",
    "print(\"total runs:\",finished_runs + dnf_runs)\n",
    "print(\"finish rate:\",finish_rate)\n",
    "11/69"
   ]
  },
  {
   "cell_type": "code",
   "execution_count": 10,
   "metadata": {},
   "outputs": [
    {
     "data": {
      "text/plain": [
       "[109.1,\n",
       " 109.19,\n",
       " 109.82,\n",
       " 109.97,\n",
       " 110.05,\n",
       " 110.25,\n",
       " 110.72,\n",
       " 110.72,\n",
       " 110.82,\n",
       " 110.92,\n",
       " 111.25,\n",
       " 111.25,\n",
       " 111.3,\n",
       " 111.43,\n",
       " 111.57,\n",
       " 111.71000000000001,\n",
       " 111.74000000000001,\n",
       " 111.84,\n",
       " 112.09,\n",
       " 112.39,\n",
       " 112.39,\n",
       " 112.81,\n",
       " 112.84,\n",
       " 112.99000000000001,\n",
       " 113.18,\n",
       " 113.47999999999999,\n",
       " 113.52000000000001,\n",
       " 114.64]"
      ]
     },
     "execution_count": 10,
     "metadata": {},
     "output_type": "execute_result"
    }
   ],
   "source": [
    "finishes"
   ]
  },
  {
   "cell_type": "code",
   "execution_count": 11,
   "metadata": {},
   "outputs": [
    {
     "data": {
      "text/plain": [
       "'10 March 2018'"
      ]
     },
     "execution_count": 11,
     "metadata": {},
     "output_type": "execute_result"
    }
   ],
   "source": [
    "get_date(soup)"
   ]
  },
  {
   "cell_type": "code",
   "execution_count": 12,
   "metadata": {},
   "outputs": [
    {
     "data": {
      "text/plain": [
       "<div class=\"hide-for-print\" id=\"bgimg\">\n",
       "<img alt=\"\" src=\"http://www.fis-ski.com/mm/Photo/Photo/General/03/27/74/32774_FLS_W01.jpg\"/>\n",
       "<div id=\"bgimg-overlay\"></div>\n",
       "</div>"
      ]
     },
     "execution_count": 12,
     "metadata": {},
     "output_type": "execute_result"
    }
   ],
   "source": [
    "soup.find(\"div\")"
   ]
  },
  {
   "cell_type": "code",
   "execution_count": 13,
   "metadata": {},
   "outputs": [],
   "source": [
    "finishes = soup.find(\"div\", class_=\"results\").find_all(\"td\", class_=\"text-left\")"
   ]
  },
  {
   "cell_type": "code",
   "execution_count": 14,
   "metadata": {},
   "outputs": [
    {
     "name": "stdout",
     "output_type": "stream",
     "text": [
      "0 1:49.10\n",
      "1 1:49.19\n",
      "2 1:49.82\n",
      "3 1:49.97\n",
      "4 1:50.05\n",
      "5 1:50.25\n",
      "6 1:50.72\n",
      "7 1:50.72\n",
      "8 1:50.82\n",
      "9 1:50.92\n",
      "10 1:51.25\n",
      "11 1:51.25\n",
      "12 1:51.30\n",
      "13 1:51.43\n",
      "14 1:51.57\n",
      "15 1:51.71\n",
      "16 1:51.74\n",
      "17 1:51.84\n",
      "18 1:52.09\n",
      "19 1:52.39\n",
      "20 1:52.39\n",
      "21 1:52.81\n",
      "22 1:52.84\n",
      "23 1:52.99\n",
      "24 1:53.18\n",
      "25 1:53.48\n",
      "26 1:53.52\n",
      "27 1:54.64\n",
      "ran out of findNextSibling\n"
     ]
    }
   ],
   "source": [
    "for i, racer in enumerate(finishes):\n",
    "    try:\n",
    "        print(i, racer.findNextSibling().text)\n",
    "    except AttributeError:\n",
    "        print(\"ran out of findNextSibling\")\n",
    "        break"
   ]
  },
  {
   "cell_type": "code",
   "execution_count": 15,
   "metadata": {},
   "outputs": [],
   "source": [
    "import re"
   ]
  },
  {
   "cell_type": "code",
   "execution_count": 16,
   "metadata": {
    "scrolled": false
   },
   "outputs": [],
   "source": [
    "dnfs = []\n",
    "for elem in soup(text=re.compile(r'Did not finish')):\n",
    "    temp = elem.parent.findNextSibling().find_all(\"td\", class_=\"text-left\")\n",
    "    for racer in temp:\n",
    "        dnfs.append(racer.text.strip())"
   ]
  },
  {
   "cell_type": "code",
   "execution_count": 17,
   "metadata": {},
   "outputs": [
    {
     "data": {
      "text/plain": [
       "['ALPHAND Estelle',\n",
       " 'BRUNNER Stephanie',\n",
       " 'CURTONI Irene',\n",
       " 'DUERR Lena',\n",
       " 'VELEZ ZUZULOVA Veronika',\n",
       " 'KIRCHGASSER Michaela',\n",
       " 'GRUENWALD Julia',\n",
       " 'WIESLER Maren',\n",
       " 'DANIOTH Aline',\n",
       " 'SHKANOVA Maria',\n",
       " 'ESPOSITO Ninon']"
      ]
     },
     "execution_count": 17,
     "metadata": {},
     "output_type": "execute_result"
    }
   ],
   "source": [
    "dnfs"
   ]
  },
  {
   "cell_type": "code",
   "execution_count": 18,
   "metadata": {},
   "outputs": [
    {
     "name": "stdout",
     "output_type": "stream",
     "text": [
      "Did not finish 1st run\n"
     ]
    }
   ],
   "source": [
    "for elem in soup(text=re.compile(r'Did not finish 1')):\n",
    "    print(elem)"
   ]
  },
  {
   "cell_type": "code",
   "execution_count": 19,
   "metadata": {},
   "outputs": [
    {
     "data": {
      "text/plain": [
       "(0.15942028985507245,\n",
       " 'Ofterschwang (GER)',\n",
       " True,\n",
       " 'Slalom',\n",
       " '10 March 2018',\n",
       " [109.1,\n",
       "  109.19,\n",
       "  109.82,\n",
       "  109.97,\n",
       "  110.05,\n",
       "  110.25,\n",
       "  110.72,\n",
       "  110.72,\n",
       "  110.82,\n",
       "  110.92,\n",
       "  111.25,\n",
       "  111.25,\n",
       "  111.3,\n",
       "  111.43,\n",
       "  111.57,\n",
       "  111.71000000000001,\n",
       "  111.74000000000001,\n",
       "  111.84,\n",
       "  112.09,\n",
       "  112.39,\n",
       "  112.39,\n",
       "  112.81,\n",
       "  112.84,\n",
       "  112.99000000000001,\n",
       "  113.18,\n",
       "  113.47999999999999,\n",
       "  113.52000000000001,\n",
       "  114.64])"
      ]
     },
     "execution_count": 19,
     "metadata": {},
     "output_type": "execute_result"
    }
   ],
   "source": [
    "search()"
   ]
  },
  {
   "cell_type": "code",
   "execution_count": 20,
   "metadata": {},
   "outputs": [
    {
     "data": {
      "text/plain": [
       "(0.15942028985507245,\n",
       " 'Ofterschwang (GER)',\n",
       " True,\n",
       " 'Slalom',\n",
       " '10 March 2018',\n",
       " [109.1,\n",
       "  109.19,\n",
       "  109.82,\n",
       "  109.97,\n",
       "  110.05,\n",
       "  110.25,\n",
       "  110.72,\n",
       "  110.72,\n",
       "  110.82,\n",
       "  110.92,\n",
       "  111.25,\n",
       "  111.25,\n",
       "  111.3,\n",
       "  111.43,\n",
       "  111.57,\n",
       "  111.71000000000001,\n",
       "  111.74000000000001,\n",
       "  111.84,\n",
       "  112.09,\n",
       "  112.39,\n",
       "  112.39,\n",
       "  112.81,\n",
       "  112.84,\n",
       "  112.99000000000001,\n",
       "  113.18,\n",
       "  113.47999999999999,\n",
       "  113.52000000000001,\n",
       "  114.64])"
      ]
     },
     "execution_count": 20,
     "metadata": {},
     "output_type": "execute_result"
    }
   ],
   "source": [
    "get_FIS_Results(soup)"
   ]
  },
  {
   "cell_type": "code",
   "execution_count": 21,
   "metadata": {},
   "outputs": [
    {
     "data": {
      "text/plain": [
       "(0.15942028985507245,\n",
       " 'Ofterschwang (GER)',\n",
       " True,\n",
       " 'Slalom',\n",
       " '10 March 2018',\n",
       " [109.1,\n",
       "  109.19,\n",
       "  109.82,\n",
       "  109.97,\n",
       "  110.05,\n",
       "  110.25,\n",
       "  110.72,\n",
       "  110.72,\n",
       "  110.82,\n",
       "  110.92,\n",
       "  111.25,\n",
       "  111.25,\n",
       "  111.3,\n",
       "  111.43,\n",
       "  111.57,\n",
       "  111.71000000000001,\n",
       "  111.74000000000001,\n",
       "  111.84,\n",
       "  112.09,\n",
       "  112.39,\n",
       "  112.39,\n",
       "  112.81,\n",
       "  112.84,\n",
       "  112.99000000000001,\n",
       "  113.18,\n",
       "  113.47999999999999,\n",
       "  113.52000000000001,\n",
       "  114.64])"
      ]
     },
     "execution_count": 21,
     "metadata": {},
     "output_type": "execute_result"
    }
   ],
   "source": [
    "read_html()"
   ]
  },
  {
   "cell_type": "code",
   "execution_count": 22,
   "metadata": {},
   "outputs": [
    {
     "data": {
      "text/plain": [
       "['ALPHAND Estelle', 'BRUNNER Stephanie']"
      ]
     },
     "execution_count": 22,
     "metadata": {},
     "output_type": "execute_result"
    }
   ],
   "source": [
    "get_dnfs(soup, 2)"
   ]
  },
  {
   "cell_type": "code",
   "execution_count": 32,
   "metadata": {},
   "outputs": [],
   "source": [
    "record_element = driver.find_elements_by_class_name(\"date-race\")\n",
    "record_element[8].click()"
   ]
  },
  {
   "cell_type": "markdown",
   "metadata": {},
   "source": [
    "## record_element = driver.find_element_by_class_name(\"active\")\n",
    "read_driver(driver)"
   ]
  },
  {
   "cell_type": "code",
   "execution_count": null,
   "metadata": {},
   "outputs": [],
   "source": []
  },
  {
   "cell_type": "code",
   "execution_count": null,
   "metadata": {},
   "outputs": [],
   "source": [
    "for month in driver.find_elements_by_class_name(\"month-label\")[1:]:\n",
    "    month.click()\n",
    "for div in driver.find_elements_by_class_name(\"date-more\"):\n",
    "    if \"open\" not in div:\n",
    "        div.click()\n",
    "    "
   ]
  },
  {
   "cell_type": "code",
   "execution_count": null,
   "metadata": {},
   "outputs": [],
   "source": [
    "soup = BeautifulSoup(driver.page_source)"
   ]
  },
  {
   "cell_type": "code",
   "execution_count": null,
   "metadata": {},
   "outputs": [],
   "source": [
    "get_racetype(soup)"
   ]
  },
  {
   "cell_type": "code",
   "execution_count": null,
   "metadata": {},
   "outputs": [],
   "source": [
    "read_html()"
   ]
  },
  {
   "cell_type": "code",
   "execution_count": null,
   "metadata": {},
   "outputs": [],
   "source": [
    "get_FIS_Results(soup)"
   ]
  },
  {
   "cell_type": "code",
   "execution_count": null,
   "metadata": {},
   "outputs": [],
   "source": [
    "type(get_FIS_Results(soup))"
   ]
  },
  {
   "cell_type": "code",
   "execution_count": null,
   "metadata": {},
   "outputs": [],
   "source": [
    "open_months()"
   ]
  },
  {
   "cell_type": "code",
   "execution_count": null,
   "metadata": {},
   "outputs": [],
   "source": [
    "JavascriptExecutor jse = (JavascriptExecutor) driver"
   ]
  },
  {
   "cell_type": "code",
   "execution_count": null,
   "metadata": {},
   "outputs": [],
   "source": [
    "JavascriptExecutor js = (JavascriptExecutor) driver"
   ]
  },
  {
   "cell_type": "code",
   "execution_count": null,
   "metadata": {},
   "outputs": [],
   "source": [
    "i"
   ]
  },
  {
   "cell_type": "code",
   "execution_count": null,
   "metadata": {},
   "outputs": [],
   "source": [
    "from selenium import JavascriptExecutor"
   ]
  },
  {
   "cell_type": "code",
   "execution_count": null,
   "metadata": {},
   "outputs": [],
   "source": [
    "dd"
   ]
  },
  {
   "cell_type": "code",
   "execution_count": null,
   "metadata": {},
   "outputs": [],
   "source": []
  },
  {
   "cell_type": "code",
   "execution_count": null,
   "metadata": {},
   "outputs": [],
   "source": []
  },
  {
   "cell_type": "code",
   "execution_count": null,
   "metadata": {},
   "outputs": [],
   "source": [
    "def search():pass"
   ]
  },
  {
   "cell_type": "code",
   "execution_count": null,
   "metadata": {},
   "outputs": [],
   "source": [
    "def read_driver(driver):\n",
    "    html = driver.page_source\n",
    "    sounp = BeautifulSoup(html, \"lxml\")\n",
    "    data = get_FIS_Results(soup)\n",
    "    return data"
   ]
  },
  {
   "cell_type": "code",
   "execution_count": null,
   "metadata": {},
   "outputs": [],
   "source": [
    "driver.get(first_url)"
   ]
  },
  {
   "cell_type": "code",
   "execution_count": null,
   "metadata": {},
   "outputs": [],
   "source": [
    "f\n"
   ]
  },
  {
   "cell_type": "code",
   "execution_count": null,
   "metadata": {},
   "outputs": [],
   "source": [
    "os.environ[\"wddebdriver.chrome.driver\"]"
   ]
  },
  {
   "cell_type": "code",
   "execution_count": null,
   "metadata": {},
   "outputs": [],
   "source": [
    "search()"
   ]
  },
  {
   "cell_type": "code",
   "execution_count": null,
   "metadata": {},
   "outputs": [],
   "source": [
    "search()"
   ]
  },
  {
   "cell_type": "code",
   "execution_count": null,
   "metadata": {},
   "outputs": [],
   "source": [
    "import selenium\n",
    "record_element.get_attribute(\"class\")\n",
    "\"active\" in record_element.get_attribute(\"class\")dd"
   ]
  },
  {
   "cell_type": "code",
   "execution_count": null,
   "metadata": {},
   "outputs": [],
   "source": [
    "kk"
   ]
  },
  {
   "cell_type": "code",
   "execution_count": null,
   "metadata": {},
   "outputs": [],
   "source": [
    "5"
   ]
  },
  {
   "cell_type": "code",
   "execution_count": null,
   "metadata": {},
   "outputs": [],
   "source": []
  }
 ],
 "metadata": {
  "kernelspec": {
   "display_name": "Python 3",
   "language": "python",
   "name": "python3"
  },
  "language_info": {
   "codemirror_mode": {
    "name": "ipython",
    "version": 3
   },
   "file_extension": ".py",
   "mimetype": "text/x-python",
   "name": "python",
   "nbconvert_exporter": "python",
   "pygments_lexer": "ipython3",
   "version": "3.6.4"
  }
 },
 "nbformat": 4,
 "nbformat_minor": 2
}
